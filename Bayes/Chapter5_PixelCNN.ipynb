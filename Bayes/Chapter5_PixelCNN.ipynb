{
  "nbformat": 4,
  "nbformat_minor": 0,
  "metadata": {
    "colab": {
      "provenance": []
    },
    "kernelspec": {
      "name": "python3",
      "display_name": "Python 3"
    },
    "language_info": {
      "name": "python"
    }
  },
  "cells": [
    {
      "cell_type": "code",
      "execution_count": null,
      "metadata": {
        "id": "otHDYgYiAkuk"
      },
      "outputs": [],
      "source": [
        "!pip install watermark"
      ]
    },
    {
      "cell_type": "code",
      "source": [
        "\n",
        "#@title import packages\n",
        "import numpy as np\n",
        "import matplotlib.pyplot as plt\n",
        "import seaborn as sns\n",
        "\n",
        "import tensorflow as tf\n",
        "import tensorflow_datasets as tfds\n",
        "import tensorflow_probability as tfp\n",
        "\n",
        "tfd = tfp.distributions\n",
        "tfb = tfp.bijectors\n",
        "tfk = tf.keras\n",
        "tfkl = tf.keras.layers\n",
        "\n",
        "# warningを非表示にする\n",
        "tf.autograph.set_verbosity(0)\n",
        "\n",
        "import os\n",
        "os.environ['TF_CPP_MIN_LOG_LEVEL'] = '3'\n",
        "\n",
        "sns.reset_defaults()\n",
        "sns.set_context(context='talk', font_scale=1.0)\n",
        "cmap = plt.get_cmap(\"tab10\")\n",
        "\n",
        "%config InlineBackend.figure_format = 'retina'\n",
        "%matplotlib inline\n",
        ""
      ],
      "metadata": {
        "id": "C09WiVHDDDE8"
      },
      "execution_count": null,
      "outputs": []
    },
    {
      "cell_type": "code",
      "source": [
        "\n",
        "#@title distribution of pixels\n",
        "def trancated_logistic(x, mu, s):\n",
        "  if 0 < x < 255:\n",
        "    return tf.sigmoid((x + 0.5 - mu) / s) - tf.sigmoid((x - 0.5 - mu) / s)\n",
        "  elif x == 0:\n",
        "    return tf.sigmoid((x + 0.5 - mu) / s)\n",
        "  elif x == 255:\n",
        "    return 1 - tf.sigmoid((x - 0.5 - mu) / s)\n",
        "  else:\n",
        "    return 0\n",
        "\n",
        "\n",
        "trancated_logistic = np.vectorize(trancated_logistic)\n",
        "\n",
        "xx = np.arange(0, 256)\n",
        "\n",
        "fig, axes = plt.subplots(2, 1, figsize=(8, 8))\n",
        "\n",
        "mu_list, s_list = [200, 120, 30], [12, 15, 10]\n",
        "ax = axes[0]\n",
        "for mu, s in zip(mu_list, s_list):\n",
        "    ax.bar(xx, trancated_logistic(xx, mu, s), label=f'={mu}, s={s}', alpha=0.7)\n",
        "ax.legend()\n",
        "ax.set_xlabel('pixel')\n",
        "ax.set_ylabel('density')\n",
        "ax.set_title('component distributions')\n",
        "\n",
        "pi_list = [0.2, 0.5, 0.3]\n",
        "d = 0\n",
        "for mu, s, pi in zip(mu_list, s_list, pi_list):\n",
        "    d += pi * trancated_logistic(xx, mu, s)\n",
        "ax = axes[1]\n",
        "ax.bar(xx, d, color='gray')\n",
        "ax.set_xlabel('pixel')\n",
        "ax.set_ylabel('density')\n",
        "ax.set_title(f'mixture distribution (={pi_list})')\n",
        "\n",
        "plt.tight_layout()"
      ],
      "metadata": {
        "id": "BVsKyfmaDGrc"
      },
      "execution_count": null,
      "outputs": []
    },
    {
      "cell_type": "code",
      "source": [
        "\n",
        "tf.random.set_seed(42)\n",
        "\n",
        "# tensorflow_datasetsからMNISTのデータを読み込み\n",
        "data = tfds.load('mnist')\n",
        "train_data, test_data = data['train'], data['test']\n",
        "\n",
        "def image_preprocess(x):\n",
        "  x['image'] = tf.cast(x['image'], tf.float32)\n",
        "  return ((x['image'], x['label']),)\n",
        "\n",
        "batch_size = 16\n",
        "train_it = train_data.map(image_preprocess).batch(batch_size).shuffle(1000)"
      ],
      "metadata": {
        "id": "zhb-DZXkDY_j"
      },
      "execution_count": null,
      "outputs": []
    },
    {
      "cell_type": "markdown",
      "source": [
        "## Model Definition"
      ],
      "metadata": {
        "id": "ozP6zKd2DjLb"
      }
    },
    {
      "cell_type": "code",
      "source": [
        "image_shape = (28,28,1)\n",
        "#define PixelCNN\n",
        "label_shape=()\n",
        "dist = tfd.PixelCNN(\n",
        "    image_shape=image_shape, #(height,width,channel)\n",
        "    conditional_shape = label_shape, #shape of conditional input\n",
        "    num_resnet=1, #num of layers of resnet\n",
        "    num_hierarchies = 2, #num of blocsk\n",
        "    num_filters = 32, #num of filters\n",
        "    num_logistic_mix = 5, #num of mixture distributions\n",
        "    dropout_p=0.3 #dropout rate\n",
        ")\n",
        "\n",
        "#input\n",
        "image_input = tfkl.Input(shape=image_shape)\n",
        "label_input = tfkl.Input(shape=label_shape)\n",
        "\n",
        "#log likelihood\n",
        "log_prob = dist.log_prob(image_input,conditional_input=label_input)\n",
        "\n",
        "#define model\n",
        "class_cond_model = tfk.Model(\n",
        "    inputs=[image_input,label_input],outputs=log_prob)\n",
        "class_cond_model.add_loss(-tf.reduce_mean(log_prob))\n",
        "\n",
        "#compilation of model\n",
        "class_cond_model.compile(\n",
        "    optimizer=tfk.optimizers.Adam(),metrics=[]\n",
        ")\n",
        "#train\n",
        "class_cond_model.fit(train_it,epochs=10,verbose=True)\n",
        "\n",
        "#plot result\n",
        "n_sample=4\n",
        "samples=dist.sample((n_sample,3),conditional_input=[1,2,3])\n",
        "fig,axes = plt.subplots(n_sample,3,figsize=(12,10))\n",
        "for i in range(n_sample):\n",
        "  for j in range(3):\n",
        "    ax = axes[i][j]\n",
        "    ax.imshow(samples[i,j,...,0],cmap=\"gray\")\n",
        "    ax.set_title(f\"sample of digit {j+1}\")"
      ],
      "metadata": {
        "id": "698zPGBmDPhq"
      },
      "execution_count": null,
      "outputs": []
    },
    {
      "cell_type": "code",
      "source": [],
      "metadata": {
        "id": "PQf8gfulF0UM"
      },
      "execution_count": null,
      "outputs": []
    }
  ]
}