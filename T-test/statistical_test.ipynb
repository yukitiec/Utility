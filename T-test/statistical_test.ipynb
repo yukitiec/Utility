{
 "cells": [
  {
   "cell_type": "markdown",
   "metadata": {},
   "source": [
    "## Import libararies"
   ]
  },
  {
   "cell_type": "code",
   "execution_count": 37,
   "metadata": {},
   "outputs": [],
   "source": [
    "import numpy as np\n",
    "from scipy.stats import f, t\n",
    "import os\n",
    "import csv\n",
    "import pandas as pd\n",
    "import matplotlib.pyplot as plt\n",
    "import matplotlib.colors as mcolors"
   ]
  },
  {
   "cell_type": "markdown",
   "metadata": {},
   "source": [
    "## load data"
   ]
  },
  {
   "cell_type": "code",
   "execution_count": 4,
   "metadata": {},
   "outputs": [],
   "source": [
    "dir1 = r\"C:\\Users\\kawaw\\YAMAKAWALAB\\TUS_TA\\experiment\\experiment\\0718\\test.csv\"\n",
    "dir2 = r\"C:\\Users\\kawaw\\YAMAKAWALAB\\TUS_TA\\experiment\\experiment\\0719\\test.csv\""
   ]
  },
  {
   "cell_type": "code",
   "execution_count": 6,
   "metadata": {},
   "outputs": [
    {
     "name": "stdout",
     "output_type": "stream",
     "text": [
      "(5, 2)\n"
     ]
    }
   ],
   "source": [
    "df1 = pd.read_csv(filepath_or_buffer=dir1, header=None)\n",
    "df2 = pd.read_csv(filepath_or_buffer=dir2, header=None)\n",
    "data1 = df1.values\n",
    "data2 = df2.values"
   ]
  },
  {
   "cell_type": "markdown",
   "metadata": {},
   "source": [
    "## Statistical test for equal variance"
   ]
  },
  {
   "cell_type": "code",
   "execution_count": 9,
   "metadata": {},
   "outputs": [],
   "source": [
    "N_samples = 5\n",
    "ALPHA = 0.05  # valid baseline for judging\n",
    "Names = [\"10Hz\", \"33Hz\", \"100Hz\", \"333Hz\", \"1000Hz\"]"
   ]
  },
  {
   "cell_type": "code",
   "execution_count": 31,
   "metadata": {},
   "outputs": [],
   "source": [
    "def test_equal_variance(data, alpha=ALPHA, n_samples=N_samples, names=Names):\n",
    "    \"\"\"statistic test for equal variance.\n",
    "\n",
    "    Args:\n",
    "        data (nd.array): data.shape = [5,2]. \"10 Hz, 33 Hz, 100 Hz, 333 Hz, 1000 Hz\" (mean, std)\n",
    "    Return:\n",
    "        bools_equalVar(nd.array): True or False meaning that 2 groups of samples have the same variance.\n",
    "    \"\"\"\n",
    "    bools_equalVar = []\n",
    "\n",
    "    for i in range(data.shape[0] - 1):\n",
    "        for j in range(i + 1, data.shape[0]):\n",
    "            # Sample data\n",
    "            mean1 = data[i][0]\n",
    "            std_dev1 = data[i][1]\n",
    "            n1 = n_samples\n",
    "\n",
    "            mean2 = data[j][0]\n",
    "            std_dev2 = data[j][1]\n",
    "            n2 = n_samples\n",
    "\n",
    "            # Calculate sample variances\n",
    "            var1 = std_dev1**2\n",
    "            var2 = std_dev2**2\n",
    "\n",
    "            # Calculate the F-test statistic\n",
    "            f_stat = var1 / var2\n",
    "\n",
    "            # Calculate degrees of freedom\n",
    "            df1 = n1 - 1\n",
    "            df2 = n2 - 1\n",
    "\n",
    "            # Calculate the p-value\n",
    "            p_value = 2 * min(f.cdf(f_stat, df1, df2), 1 - f.cdf(f_stat, df1, df2))\n",
    "\n",
    "            # Interpretation\n",
    "            print(f\"::: Comparison between {names[i]} and {names[j]} :::\")\n",
    "            if p_value > alpha:\n",
    "                print(\"Fail to reject the null hypothesis: Variances are equal\")\n",
    "                bools_equalVar.append(True)\n",
    "            else:\n",
    "                print(\"Reject the null hypothesis: Variances are not equal\")\n",
    "                bools_equalVar.append(False)\n",
    "\n",
    "            print(f\"F-test statistic: {f_stat}, p-value: {p_value}\")\n",
    "    bools_equalVar = np.array(bools_equalVar)\n",
    "    return bools_equalVar"
   ]
  },
  {
   "cell_type": "code",
   "execution_count": 32,
   "metadata": {},
   "outputs": [
    {
     "name": "stdout",
     "output_type": "stream",
     "text": [
      "::: Comparison between 10Hz and 33Hz :::\n",
      "Fail to reject the null hypothesis: Variances are equal\n",
      "F-test statistic: 0.925459663566956, p-value: 0.9419594966990554\n",
      "::: Comparison between 10Hz and 100Hz :::\n",
      "Fail to reject the null hypothesis: Variances are equal\n",
      "F-test statistic: 0.30681213378906247, p-value: 0.2789620369541344\n",
      "::: Comparison between 10Hz and 333Hz :::\n",
      "Fail to reject the null hypothesis: Variances are equal\n",
      "F-test statistic: 0.9355877376979613, p-value: 0.95010160173119\n",
      "::: Comparison between 10Hz and 1000Hz :::\n",
      "Fail to reject the null hypothesis: Variances are equal\n",
      "F-test statistic: 0.4559464852607709, p-value: 0.46557377789910515\n",
      "::: Comparison between 33Hz and 100Hz :::\n",
      "Fail to reject the null hypothesis: Variances are equal\n",
      "F-test statistic: 0.3315240478515625, p-value: 0.31021013152374893\n",
      "::: Comparison between 33Hz and 333Hz :::\n",
      "Fail to reject the null hypothesis: Variances are equal\n",
      "F-test statistic: 1.0109438309736474, p-value: 0.9918368757263498\n",
      "::: Comparison between 33Hz and 1000Hz :::\n",
      "Fail to reject the null hypothesis: Variances are equal\n",
      "F-test statistic: 0.4926702947845805, p-value: 0.5098103768034967\n",
      "::: Comparison between 100Hz and 333Hz :::\n",
      "Fail to reject the null hypothesis: Variances are equal\n",
      "F-test statistic: 3.0493831066707116, p-value: 0.3056681892831701\n",
      "::: Comparison between 100Hz and 1000Hz :::\n",
      "Fail to reject the null hypothesis: Variances are equal\n",
      "F-test statistic: 1.486077097505669, p-value: 0.7104575803949746\n",
      "::: Comparison between 333Hz and 1000Hz :::\n",
      "Fail to reject the null hypothesis: Variances are equal\n",
      "F-test statistic: 0.48733696145124716, p-value: 0.5034478596978903\n",
      "::: Comparison between 10Hz and 33Hz :::\n",
      "Fail to reject the null hypothesis: Variances are equal\n",
      "F-test statistic: 3.647134720900832, p-value: 0.23797405146958694\n",
      "::: Comparison between 10Hz and 100Hz :::\n",
      "Fail to reject the null hypothesis: Variances are equal\n",
      "F-test statistic: 0.6271312166086986, p-value: 0.6622811124602047\n",
      "::: Comparison between 10Hz and 333Hz :::\n",
      "Fail to reject the null hypothesis: Variances are equal\n",
      "F-test statistic: 1.2247728506153603, p-value: 0.848967907259448\n",
      "::: Comparison between 10Hz and 1000Hz :::\n",
      "Fail to reject the null hypothesis: Variances are equal\n",
      "F-test statistic: 1.7230633770295978, p-value: 0.6110614734460702\n",
      "::: Comparison between 33Hz and 100Hz :::\n",
      "Reject the null hypothesis: Variances are not equal\n",
      "F-test statistic: 0.17195175517229017, p-value: 0.11653076400670953\n",
      "::: Comparison between 33Hz and 333Hz :::\n",
      "Fail to reject the null hypothesis: Variances are equal\n",
      "F-test statistic: 0.3358178253181843, p-value: 0.31564441343384414\n",
      "::: Comparison between 33Hz and 1000Hz :::\n",
      "Fail to reject the null hypothesis: Variances are equal\n",
      "F-test statistic: 0.47244302963505724, p-value: 0.48556627498295696\n",
      "::: Comparison between 100Hz and 333Hz :::\n",
      "Fail to reject the null hypothesis: Variances are equal\n",
      "F-test statistic: 1.9529770137077436, p-value: 0.5327288700613035\n",
      "::: Comparison between 100Hz and 1000Hz :::\n",
      "Fail to reject the null hypothesis: Variances are equal\n",
      "F-test statistic: 2.747532464333873, p-value: 0.3512269399721788\n",
      "::: Comparison between 333Hz and 1000Hz :::\n",
      "Fail to reject the null hypothesis: Variances are equal\n",
      "F-test statistic: 1.4068432168168017, p-value: 0.7488609066693259\n"
     ]
    }
   ],
   "source": [
    "bools_equalVar1 = test_equal_variance(data1)\n",
    "bools_equalVar2 = test_equal_variance(data2)"
   ]
  },
  {
   "cell_type": "code",
   "execution_count": 33,
   "metadata": {},
   "outputs": [
    {
     "name": "stdout",
     "output_type": "stream",
     "text": [
      "[ True  True  True  True  True  True  True  True  True  True]\n",
      "[ True  True  True  True False  True  True  True  True  True]\n"
     ]
    }
   ],
   "source": [
    "print(bools_equalVar1)\n",
    "print(bools_equalVar2)"
   ]
  },
  {
   "cell_type": "markdown",
   "metadata": {},
   "source": [
    "## T-test"
   ]
  },
  {
   "cell_type": "code",
   "execution_count": 38,
   "metadata": {},
   "outputs": [],
   "source": [
    "ALPHA = 0.05  # valid baseline for judging"
   ]
  },
  {
   "cell_type": "code",
   "execution_count": 41,
   "metadata": {},
   "outputs": [],
   "source": [
    "def test_significant_test(data, alpha=ALPHA, n_samples=N_samples, names=Names):\n",
    "    \"\"\"statistic test for significant test with t-test.\n",
    "\n",
    "    Args:\n",
    "        data (nd.array): data.shape = [5,2]. \"10 Hz, 33 Hz, 100 Hz, 333 Hz, 1000 Hz\" (mean, std)\n",
    "    Return:\n",
    "        bools_difference(nd.array): 0: no significant difference. 1: significant difference.\n",
    "    \"\"\"\n",
    "    bools_difference = np.zeros((data.shape[0], data.shape[0]))\n",
    "\n",
    "    for i in range(data.shape[0] - 1):\n",
    "        for j in range(i + 1, data.shape[0]):\n",
    "            # Sample data\n",
    "            mean1 = data[i][0]\n",
    "            std_dev1 = data[i][1]\n",
    "            n1 = n_samples\n",
    "\n",
    "            mean2 = data[j][0]\n",
    "            std_dev2 = data[j][1]\n",
    "            n2 = n_samples\n",
    "\n",
    "            # Equal variances (Pooled t-test)\n",
    "            # Calculate pooled standard deviation\n",
    "            sp = np.sqrt(\n",
    "                ((n1 - 1) * std_dev1**2 + (n2 - 1) * std_dev2**2) / (n1 + n2 - 2)\n",
    "            )\n",
    "\n",
    "            # Calculate t-statistic\n",
    "            t_stat_pooled = (mean1 - mean2) / (sp * np.sqrt(1 / n1 + 1 / n2))\n",
    "\n",
    "            # Degrees of freedom\n",
    "            df_pooled = n1 + n2 - 2\n",
    "\n",
    "            # Calculate p-value\n",
    "            p_value_pooled = 2 * (1 - t.cdf(abs(t_stat_pooled), df_pooled))\n",
    "\n",
    "            print(\n",
    "                f\"Pooled t-test statistic: {t_stat_pooled}, p-value: {p_value_pooled}\"\n",
    "            )\n",
    "\n",
    "            # Unequal variances (Welch's t-test)\n",
    "            # Calculate t-statistic\n",
    "            t_stat_welch = (mean1 - mean2) / np.sqrt(\n",
    "                std_dev1**2 / n1 + std_dev2**2 / n2\n",
    "            )\n",
    "\n",
    "            # Degrees of freedom using Welch-Satterthwaite equation\n",
    "            df_welch = ((std_dev1**2 / n1 + std_dev2**2 / n2) ** 2) / (\n",
    "                (std_dev1**2 / n1) ** 2 / (n1 - 1) + (std_dev2**2 / n2) ** 2 / (n2 - 1)\n",
    "            )\n",
    "\n",
    "            # Calculate p-value\n",
    "            p_value_welch = 2 * (1 - t.cdf(abs(t_stat_welch), df_welch))\n",
    "\n",
    "            print(f\"Welch's t-test statistic: {t_stat_welch}, p-value: {p_value_welch}\")\n",
    "\n",
    "            # Interpretation\n",
    "            # if p_value_pooled > alpha:\n",
    "            #     print(\"Fail to reject the null hypothesis (equal variances): Means are not significantly different\")\n",
    "            # else:\n",
    "            #     print(\"Reject the null hypothesis (equal variances): Means are significantly different\")\n",
    "            #     bools_difference[i][j] = 1\n",
    "            #     bools_difference[j][i] = 1\n",
    "\n",
    "            if p_value_welch > alpha:\n",
    "                print(\n",
    "                    \"Fail to reject the null hypothesis (unequal variances): Means are not significantly different\"\n",
    "                )\n",
    "            else:\n",
    "                print(\n",
    "                    \"Reject the null hypothesis (unequal variances): Means are significantly different\"\n",
    "                )\n",
    "                bools_difference[i][j] = 1\n",
    "                bools_difference[j][i] = 1\n",
    "\n",
    "    # show data\n",
    "    # Define the colormap\n",
    "    cmap = mcolors.ListedColormap([\"orange\", \"blue\"])\n",
    "\n",
    "    # Create the heatmap\n",
    "    fig, ax = plt.subplots()\n",
    "    cax = ax.matshow(bools_difference, cmap=cmap)\n",
    "\n",
    "    # Add color bar for reference\n",
    "    cbar = plt.colorbar(cax, ticks=[0, 1])\n",
    "    cbar.ax.set_yticklabels([\"0\", \"1\"])\n",
    "\n",
    "    # Add labels to each cell\n",
    "    for i in range(data.shape[0]):\n",
    "        for j in range(data.shape[0]):\n",
    "            c = bools_difference[j, i]\n",
    "            ax.text(i, j, str(c), va=\"center\", ha=\"center\")\n",
    "\n",
    "    # Set x and y labels\n",
    "    ax.set_xticks(np.arange(data.shape[0]))\n",
    "    ax.set_yticks(np.arange(data.shape[0]))\n",
    "    ax.set_xticklabels([f\"{name}\" for name in names])\n",
    "    ax.set_yticklabels([f\"{name}\" for name in names])\n",
    "\n",
    "    # Set labels to axes\n",
    "    plt.xlabel(\"Frequecy\")\n",
    "    plt.ylabel(\"Frequency\")\n",
    "\n",
    "    # Show the plot\n",
    "    plt.show()\n",
    "\n",
    "    return bools_difference"
   ]
  },
  {
   "cell_type": "code",
   "execution_count": 42,
   "metadata": {},
   "outputs": [
    {
     "name": "stdout",
     "output_type": "stream",
     "text": [
      "Pooled t-test statistic: 2.973645615389361, p-value: 0.017771947324513926\n",
      "Welch's t-test statistic: 2.973645615389361, p-value: 0.017801824527016175\n",
      "Reject the null hypothesis (equal variances): Means are significantly different\n",
      "Pooled t-test statistic: 2.5367434135104023, p-value: 0.03488720580193827\n",
      "Welch's t-test statistic: 2.536743413510402, p-value: 0.04277954467956446\n",
      "Reject the null hypothesis (equal variances): Means are significantly different\n",
      "Pooled t-test statistic: 4.385353347279948, p-value: 0.0023320072417578608\n",
      "Welch's t-test statistic: 4.385353347279948, p-value: 0.0023382195632184466\n",
      "Reject the null hypothesis (equal variances): Means are significantly different\n",
      "Pooled t-test statistic: 2.929753521632745, p-value: 0.01900531694506724\n",
      "Welch's t-test statistic: 2.929753521632745, p-value: 0.0219620361283841\n",
      "Reject the null hypothesis (equal variances): Means are significantly different\n",
      "Pooled t-test statistic: 0.4541734890537842, p-value: 0.6617726806409736\n",
      "Welch's t-test statistic: 0.4541734890537842, p-value: 0.6647262192320524\n",
      "Fail to reject the null hypothesis (equal variances): Means are not significantly different\n",
      "Pooled t-test statistic: 1.376768850273496, p-value: 0.20588060252660134\n",
      "Welch's t-test statistic: 1.376768850273496, p-value: 0.20588166975080946\n",
      "Fail to reject the null hypothesis (equal variances): Means are not significantly different\n",
      "Pooled t-test statistic: 0.5229197113185564, p-value: 0.615199664097904\n",
      "Welch's t-test statistic: 0.5229197113185564, p-value: 0.6167928059503454\n",
      "Fail to reject the null hypothesis (equal variances): Means are not significantly different\n",
      "Pooled t-test statistic: 0.5154250375116303, p-value: 0.6201930365554742\n",
      "Welch's t-test statistic: 0.5154250375116304, p-value: 0.6236550393667823\n",
      "Fail to reject the null hypothesis (equal variances): Means are not significantly different\n",
      "Pooled t-test statistic: 0.0, p-value: 1.0\n",
      "Welch's t-test statistic: 0.0, p-value: 1.0\n",
      "Fail to reject the null hypothesis (equal variances): Means are not significantly different\n",
      "Pooled t-test statistic: -0.5937039451730455, p-value: 0.5691125347812105\n",
      "Welch's t-test statistic: -0.5937039451730455, p-value: 0.5710064674974684\n",
      "Fail to reject the null hypothesis (equal variances): Means are not significantly different\n"
     ]
    },
    {
     "data": {
      "image/png": "[encoded data removed]",
      "text/plain": [
       "<Figure size 640x480 with 2 Axes>"
      ]
     },
     "metadata": {},
     "output_type": "display_data"
    },
    {
     "name": "stdout",
     "output_type": "stream",
     "text": [
      "Pooled t-test statistic: 1.8536075963478535, p-value: 0.10091629556056403\n",
      "Welch's t-test statistic: 1.853607596347854, p-value: 0.11289700245701972\n",
      "Fail to reject the null hypothesis (equal variances): Means are not significantly different\n",
      "Pooled t-test statistic: 1.8631833727368892, p-value: 0.09944316849344137\n",
      "Welch's t-test statistic: 1.8631833727368894, p-value: 0.10138501180734316\n",
      "Fail to reject the null hypothesis (equal variances): Means are not significantly different\n",
      "Pooled t-test statistic: 3.0421876697745267, p-value: 0.01600996348061612\n",
      "Welch's t-test statistic: 3.0421876697745267, p-value: 0.01620292401690482\n",
      "Reject the null hypothesis (equal variances): Means are significantly different\n",
      "Pooled t-test statistic: 3.665030383308021, p-value: 0.006354892359566877\n",
      "Welch's t-test statistic: 3.665030383308021, p-value: 0.007151617079505845\n",
      "Reject the null hypothesis (equal variances): Means are significantly different\n",
      "Pooled t-test statistic: 0.6648017174196653, p-value: 0.5248740348900265\n",
      "Welch's t-test statistic: 0.6648017174196653, p-value: 0.5338308461847925\n",
      "Fail to reject the null hypothesis (equal variances): Means are not significantly different\n",
      "Pooled t-test statistic: 1.9225475855428884, p-value: 0.09075822156833735\n",
      "Welch's t-test statistic: 1.9225475855428886, p-value: 0.09977043864958257\n",
      "Fail to reject the null hypothesis (equal variances): Means are not significantly different\n",
      "Pooled t-test statistic: 2.7206812994819165, p-value: 0.02622106526923451\n",
      "Welch's t-test statistic: 2.7206812994819165, p-value: 0.029373985249073087\n",
      "Reject the null hypothesis (equal variances): Means are significantly different\n",
      "Pooled t-test statistic: 0.7077834776422406, p-value: 0.4991775976678252\n",
      "Welch's t-test statistic: 0.7077834776422406, p-value: 0.5012074366396257\n",
      "Fail to reject the null hypothesis (equal variances): Means are not significantly different\n",
      "Pooled t-test statistic: 1.0891579121965227, p-value: 0.30780261492506256\n",
      "Welch's t-test statistic: 1.0891579121965225, p-value: 0.31440759697018317\n",
      "Fail to reject the null hypothesis (equal variances): Means are not significantly different\n",
      "Pooled t-test statistic: 0.42917785175309625, p-value: 0.6791176801017025\n",
      "Welch's t-test statistic: 0.42917785175309625, p-value: 0.6794337443838834\n",
      "Fail to reject the null hypothesis (equal variances): Means are not significantly different\n"
     ]
    },
    {
     "data": {
      "image/png": "[encoded data removed]",
      "text/plain": [
       "<Figure size 640x480 with 2 Axes>"
      ]
     },
     "metadata": {},
     "output_type": "display_data"
    }
   ],
   "source": [
    "bools_difference1 = test_significant_test(data1)\n",
    "bools_difference2 = test_significant_test(data2)"
   ]
  },
  {
   "cell_type": "code",
   "execution_count": null,
   "metadata": {},
   "outputs": [],
   "source": []
  }
 ],
 "metadata": {
  "kernelspec": {
   "display_name": "kawawaki",
   "language": "python",
   "name": "python3"
  },
  "language_info": {
   "codemirror_mode": {
    "name": "ipython",
    "version": 3
   },
   "file_extension": ".py",
   "mimetype": "text/x-python",
   "name": "python",
   "nbconvert_exporter": "python",
   "pygments_lexer": "ipython3",
   "version": "3.10.11"
  }
 },
 "nbformat": 4,
 "nbformat_minor": 2
}
